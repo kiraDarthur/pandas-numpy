{
 "cells": [
  {
   "cell_type": "markdown",
   "metadata": {},
   "source": [
    "eu metodo de ensino consite em uma semana esta estudando pelo curso/youtube e na outra abrir a documentaçao oficial da linguagem e escrever os codigos assim eu  tenho meto de evoluºao masi rapida o curso resume tudo mastigado para te ruma curva de aprendizado maior já a documentaçao vai dme da profundidade , essa parte aqui é justamente da documentaçao oficial -"
   ]
  },
  {
   "cell_type": "code",
   "execution_count": 5,
   "metadata": {},
   "outputs": [],
   "source": [
    "#https://pandas.pydata.org/docs/getting_started/intro_tutorials/02_read_write.html\n",
    "\n",
    "import pandas as pd"
   ]
  },
  {
   "cell_type": "code",
   "execution_count": 6,
   "metadata": {},
   "outputs": [],
   "source": [
    "#Aqui eu  criei um data frame  no arquivo csv\n",
    "teste = pd.read_csv(\"lista_de_vendas.csv\")"
   ]
  },
  {
   "cell_type": "code",
   "execution_count": 5,
   "metadata": {
    "scrolled": true
   },
   "outputs": [
    {
     "data": {
      "text/html": [
       "<div>\n",
       "<style scoped>\n",
       "    .dataframe tbody tr th:only-of-type {\n",
       "        vertical-align: middle;\n",
       "    }\n",
       "\n",
       "    .dataframe tbody tr th {\n",
       "        vertical-align: top;\n",
       "    }\n",
       "\n",
       "    .dataframe thead th {\n",
       "        text-align: right;\n",
       "    }\n",
       "</style>\n",
       "<table border=\"1\" class=\"dataframe\">\n",
       "  <thead>\n",
       "    <tr style=\"text-align: right;\">\n",
       "      <th></th>\n",
       "      <th>Data</th>\n",
       "      <th>Produto</th>\n",
       "      <th>Quantidade</th>\n",
       "      <th>Valor_Unitario</th>\n",
       "    </tr>\n",
       "  </thead>\n",
       "  <tbody>\n",
       "    <tr>\n",
       "      <th>0</th>\n",
       "      <td>2022-08-22</td>\n",
       "      <td>Mochila</td>\n",
       "      <td>81.0</td>\n",
       "      <td>435.0</td>\n",
       "    </tr>\n",
       "    <tr>\n",
       "      <th>1</th>\n",
       "      <td>2022-06-27</td>\n",
       "      <td>Macacão</td>\n",
       "      <td>NaN</td>\n",
       "      <td>NaN</td>\n",
       "    </tr>\n",
       "    <tr>\n",
       "      <th>2</th>\n",
       "      <td>2022-05-26</td>\n",
       "      <td>Sapato Social</td>\n",
       "      <td>89.0</td>\n",
       "      <td>220.0</td>\n",
       "    </tr>\n",
       "    <tr>\n",
       "      <th>3</th>\n",
       "      <td>2022-11-21</td>\n",
       "      <td>Tênis</td>\n",
       "      <td>63.0</td>\n",
       "      <td>103.0</td>\n",
       "    </tr>\n",
       "    <tr>\n",
       "      <th>4</th>\n",
       "      <td>2022-02-16</td>\n",
       "      <td>Anel</td>\n",
       "      <td>NaN</td>\n",
       "      <td>146.0</td>\n",
       "    </tr>\n",
       "    <tr>\n",
       "      <th>5</th>\n",
       "      <td>2022-11-29</td>\n",
       "      <td>Sutiã</td>\n",
       "      <td>91.0</td>\n",
       "      <td>268.0</td>\n",
       "    </tr>\n",
       "    <tr>\n",
       "      <th>6</th>\n",
       "      <td>2022-03-14</td>\n",
       "      <td>Jaqueta Jeans</td>\n",
       "      <td>NaN</td>\n",
       "      <td>404.0</td>\n",
       "    </tr>\n",
       "    <tr>\n",
       "      <th>7</th>\n",
       "      <td>2022-05-16</td>\n",
       "      <td>Brinco</td>\n",
       "      <td>77.0</td>\n",
       "      <td>241.0</td>\n",
       "    </tr>\n",
       "    <tr>\n",
       "      <th>8</th>\n",
       "      <td>2022-05-07</td>\n",
       "      <td>Short Saia</td>\n",
       "      <td>76.0</td>\n",
       "      <td>NaN</td>\n",
       "    </tr>\n",
       "    <tr>\n",
       "      <th>9</th>\n",
       "      <td>2022-11-24</td>\n",
       "      <td>Camiseta Manga Longa</td>\n",
       "      <td>79.0</td>\n",
       "      <td>NaN</td>\n",
       "    </tr>\n",
       "    <tr>\n",
       "      <th>10</th>\n",
       "      <td>2022-02-03</td>\n",
       "      <td>Blusa de Renda</td>\n",
       "      <td>2.0</td>\n",
       "      <td>485.0</td>\n",
       "    </tr>\n",
       "    <tr>\n",
       "      <th>11</th>\n",
       "      <td>2022-02-28</td>\n",
       "      <td>Camiseta Manga Longa</td>\n",
       "      <td>23.0</td>\n",
       "      <td>373.0</td>\n",
       "    </tr>\n",
       "    <tr>\n",
       "      <th>12</th>\n",
       "      <td>2022-08-07</td>\n",
       "      <td>Sapato de Salto</td>\n",
       "      <td>73.0</td>\n",
       "      <td>NaN</td>\n",
       "    </tr>\n",
       "    <tr>\n",
       "      <th>13</th>\n",
       "      <td>2022-11-16</td>\n",
       "      <td>Bermuda</td>\n",
       "      <td>NaN</td>\n",
       "      <td>95.0</td>\n",
       "    </tr>\n",
       "    <tr>\n",
       "      <th>14</th>\n",
       "      <td>2022-02-19</td>\n",
       "      <td>Moletom</td>\n",
       "      <td>16.0</td>\n",
       "      <td>NaN</td>\n",
       "    </tr>\n",
       "    <tr>\n",
       "      <th>15</th>\n",
       "      <td>2022-12-09</td>\n",
       "      <td>Saia de Couro</td>\n",
       "      <td>11.0</td>\n",
       "      <td>385.0</td>\n",
       "    </tr>\n",
       "    <tr>\n",
       "      <th>16</th>\n",
       "      <td>2022-06-21</td>\n",
       "      <td>Camisa Xadrez</td>\n",
       "      <td>70.0</td>\n",
       "      <td>324.0</td>\n",
       "    </tr>\n",
       "    <tr>\n",
       "      <th>17</th>\n",
       "      <td>2022-09-24</td>\n",
       "      <td>Sapatênis</td>\n",
       "      <td>58.0</td>\n",
       "      <td>404.0</td>\n",
       "    </tr>\n",
       "    <tr>\n",
       "      <th>18</th>\n",
       "      <td>2022-09-19</td>\n",
       "      <td>Camisa</td>\n",
       "      <td>NaN</td>\n",
       "      <td>53.0</td>\n",
       "    </tr>\n",
       "    <tr>\n",
       "      <th>19</th>\n",
       "      <td>2022-06-25</td>\n",
       "      <td>Saia de Couro</td>\n",
       "      <td>5.0</td>\n",
       "      <td>234.0</td>\n",
       "    </tr>\n",
       "    <tr>\n",
       "      <th>20</th>\n",
       "      <td>2022-08-08</td>\n",
       "      <td>Blusa Ciganinha</td>\n",
       "      <td>NaN</td>\n",
       "      <td>180.0</td>\n",
       "    </tr>\n",
       "    <tr>\n",
       "      <th>21</th>\n",
       "      <td>2022-01-04</td>\n",
       "      <td>Regata</td>\n",
       "      <td>NaN</td>\n",
       "      <td>393.0</td>\n",
       "    </tr>\n",
       "    <tr>\n",
       "      <th>22</th>\n",
       "      <td>2022-11-12</td>\n",
       "      <td>Saia de Couro</td>\n",
       "      <td>89.0</td>\n",
       "      <td>NaN</td>\n",
       "    </tr>\n",
       "    <tr>\n",
       "      <th>23</th>\n",
       "      <td>2022-01-01</td>\n",
       "      <td>Vestido Transpassado</td>\n",
       "      <td>NaN</td>\n",
       "      <td>361.0</td>\n",
       "    </tr>\n",
       "    <tr>\n",
       "      <th>24</th>\n",
       "      <td>2022-10-28</td>\n",
       "      <td>Suéter</td>\n",
       "      <td>83.0</td>\n",
       "      <td>165.0</td>\n",
       "    </tr>\n",
       "    <tr>\n",
       "      <th>25</th>\n",
       "      <td>2022-07-01</td>\n",
       "      <td>Macacão</td>\n",
       "      <td>6.0</td>\n",
       "      <td>NaN</td>\n",
       "    </tr>\n",
       "    <tr>\n",
       "      <th>26</th>\n",
       "      <td>2022-08-23</td>\n",
       "      <td>Cinto</td>\n",
       "      <td>NaN</td>\n",
       "      <td>495.0</td>\n",
       "    </tr>\n",
       "    <tr>\n",
       "      <th>27</th>\n",
       "      <td>2022-06-29</td>\n",
       "      <td>Bolsa</td>\n",
       "      <td>6.0</td>\n",
       "      <td>386.0</td>\n",
       "    </tr>\n",
       "    <tr>\n",
       "      <th>28</th>\n",
       "      <td>2022-10-04</td>\n",
       "      <td>Anel</td>\n",
       "      <td>NaN</td>\n",
       "      <td>80.0</td>\n",
       "    </tr>\n",
       "    <tr>\n",
       "      <th>29</th>\n",
       "      <td>2022-05-07</td>\n",
       "      <td>Pulseira</td>\n",
       "      <td>24.0</td>\n",
       "      <td>90.0</td>\n",
       "    </tr>\n",
       "    <tr>\n",
       "      <th>...</th>\n",
       "      <td>...</td>\n",
       "      <td>...</td>\n",
       "      <td>...</td>\n",
       "      <td>...</td>\n",
       "    </tr>\n",
       "    <tr>\n",
       "      <th>9970</th>\n",
       "      <td>2022-07-26</td>\n",
       "      <td>Saia Jeans</td>\n",
       "      <td>50.0</td>\n",
       "      <td>53.0</td>\n",
       "    </tr>\n",
       "    <tr>\n",
       "      <th>9971</th>\n",
       "      <td>2022-06-18</td>\n",
       "      <td>Brinco</td>\n",
       "      <td>82.0</td>\n",
       "      <td>249.0</td>\n",
       "    </tr>\n",
       "    <tr>\n",
       "      <th>9972</th>\n",
       "      <td>2022-08-08</td>\n",
       "      <td>Camisa Jeans</td>\n",
       "      <td>83.0</td>\n",
       "      <td>496.0</td>\n",
       "    </tr>\n",
       "    <tr>\n",
       "      <th>9973</th>\n",
       "      <td>2022-04-27</td>\n",
       "      <td>Brinco</td>\n",
       "      <td>52.0</td>\n",
       "      <td>413.0</td>\n",
       "    </tr>\n",
       "    <tr>\n",
       "      <th>9974</th>\n",
       "      <td>2022-07-12</td>\n",
       "      <td>Vestido Tomara que Caia</td>\n",
       "      <td>57.0</td>\n",
       "      <td>159.0</td>\n",
       "    </tr>\n",
       "    <tr>\n",
       "      <th>9975</th>\n",
       "      <td>2022-06-06</td>\n",
       "      <td>Blusa de Tule</td>\n",
       "      <td>NaN</td>\n",
       "      <td>464.0</td>\n",
       "    </tr>\n",
       "    <tr>\n",
       "      <th>9976</th>\n",
       "      <td>2022-10-25</td>\n",
       "      <td>Camisa Jeans</td>\n",
       "      <td>22.0</td>\n",
       "      <td>421.0</td>\n",
       "    </tr>\n",
       "    <tr>\n",
       "      <th>9977</th>\n",
       "      <td>2022-01-01</td>\n",
       "      <td>Cardigan</td>\n",
       "      <td>5.0</td>\n",
       "      <td>489.0</td>\n",
       "    </tr>\n",
       "    <tr>\n",
       "      <th>9978</th>\n",
       "      <td>2022-04-04</td>\n",
       "      <td>Camisa Jeans</td>\n",
       "      <td>NaN</td>\n",
       "      <td>493.0</td>\n",
       "    </tr>\n",
       "    <tr>\n",
       "      <th>9979</th>\n",
       "      <td>2022-02-06</td>\n",
       "      <td>Camiseta Básica</td>\n",
       "      <td>85.0</td>\n",
       "      <td>294.0</td>\n",
       "    </tr>\n",
       "    <tr>\n",
       "      <th>9980</th>\n",
       "      <td>2022-10-23</td>\n",
       "      <td>Camisa</td>\n",
       "      <td>68.0</td>\n",
       "      <td>150.0</td>\n",
       "    </tr>\n",
       "    <tr>\n",
       "      <th>9981</th>\n",
       "      <td>2022-07-30</td>\n",
       "      <td>Macacão Curto</td>\n",
       "      <td>17.0</td>\n",
       "      <td>185.0</td>\n",
       "    </tr>\n",
       "    <tr>\n",
       "      <th>9982</th>\n",
       "      <td>2022-07-28</td>\n",
       "      <td>Tênis</td>\n",
       "      <td>NaN</td>\n",
       "      <td>NaN</td>\n",
       "    </tr>\n",
       "    <tr>\n",
       "      <th>9983</th>\n",
       "      <td>2022-09-05</td>\n",
       "      <td>Blazer</td>\n",
       "      <td>NaN</td>\n",
       "      <td>343.0</td>\n",
       "    </tr>\n",
       "    <tr>\n",
       "      <th>9984</th>\n",
       "      <td>2022-12-15</td>\n",
       "      <td>Bolsa</td>\n",
       "      <td>61.0</td>\n",
       "      <td>118.0</td>\n",
       "    </tr>\n",
       "    <tr>\n",
       "      <th>9985</th>\n",
       "      <td>2022-02-14</td>\n",
       "      <td>Lenço</td>\n",
       "      <td>26.0</td>\n",
       "      <td>287.0</td>\n",
       "    </tr>\n",
       "    <tr>\n",
       "      <th>9986</th>\n",
       "      <td>2022-06-30</td>\n",
       "      <td>Blusa Cropped</td>\n",
       "      <td>94.0</td>\n",
       "      <td>453.0</td>\n",
       "    </tr>\n",
       "    <tr>\n",
       "      <th>9987</th>\n",
       "      <td>2022-04-29</td>\n",
       "      <td>Regata</td>\n",
       "      <td>97.0</td>\n",
       "      <td>376.0</td>\n",
       "    </tr>\n",
       "    <tr>\n",
       "      <th>9988</th>\n",
       "      <td>2022-10-14</td>\n",
       "      <td>Calça Social</td>\n",
       "      <td>41.0</td>\n",
       "      <td>411.0</td>\n",
       "    </tr>\n",
       "    <tr>\n",
       "      <th>9989</th>\n",
       "      <td>2022-02-08</td>\n",
       "      <td>Brinco</td>\n",
       "      <td>41.0</td>\n",
       "      <td>82.0</td>\n",
       "    </tr>\n",
       "    <tr>\n",
       "      <th>9990</th>\n",
       "      <td>2022-08-27</td>\n",
       "      <td>Vestido Ciganinha</td>\n",
       "      <td>10.0</td>\n",
       "      <td>329.0</td>\n",
       "    </tr>\n",
       "    <tr>\n",
       "      <th>9991</th>\n",
       "      <td>2022-04-08</td>\n",
       "      <td>Camisa Social</td>\n",
       "      <td>NaN</td>\n",
       "      <td>NaN</td>\n",
       "    </tr>\n",
       "    <tr>\n",
       "      <th>9992</th>\n",
       "      <td>2022-06-06</td>\n",
       "      <td>Relógio</td>\n",
       "      <td>12.0</td>\n",
       "      <td>149.0</td>\n",
       "    </tr>\n",
       "    <tr>\n",
       "      <th>9993</th>\n",
       "      <td>2022-01-14</td>\n",
       "      <td>Jaqueta</td>\n",
       "      <td>29.0</td>\n",
       "      <td>280.0</td>\n",
       "    </tr>\n",
       "    <tr>\n",
       "      <th>9994</th>\n",
       "      <td>2022-11-15</td>\n",
       "      <td>Camisa Social</td>\n",
       "      <td>NaN</td>\n",
       "      <td>172.0</td>\n",
       "    </tr>\n",
       "    <tr>\n",
       "      <th>9995</th>\n",
       "      <td>2022-09-26</td>\n",
       "      <td>Bermuda</td>\n",
       "      <td>1.0</td>\n",
       "      <td>316.0</td>\n",
       "    </tr>\n",
       "    <tr>\n",
       "      <th>9996</th>\n",
       "      <td>2022-08-15</td>\n",
       "      <td>Cinto</td>\n",
       "      <td>94.0</td>\n",
       "      <td>NaN</td>\n",
       "    </tr>\n",
       "    <tr>\n",
       "      <th>9997</th>\n",
       "      <td>2023-01-01</td>\n",
       "      <td>Sandália de Salto</td>\n",
       "      <td>93.0</td>\n",
       "      <td>240.0</td>\n",
       "    </tr>\n",
       "    <tr>\n",
       "      <th>9998</th>\n",
       "      <td>2022-07-06</td>\n",
       "      <td>Boné</td>\n",
       "      <td>8.0</td>\n",
       "      <td>104.0</td>\n",
       "    </tr>\n",
       "    <tr>\n",
       "      <th>9999</th>\n",
       "      <td>2022-09-20</td>\n",
       "      <td>Sandália de Salto</td>\n",
       "      <td>NaN</td>\n",
       "      <td>380.0</td>\n",
       "    </tr>\n",
       "  </tbody>\n",
       "</table>\n",
       "<p>10000 rows × 4 columns</p>\n",
       "</div>"
      ],
      "text/plain": [
       "            Data                  Produto  Quantidade  Valor_Unitario\n",
       "0     2022-08-22                  Mochila        81.0           435.0\n",
       "1     2022-06-27                  Macacão         NaN             NaN\n",
       "2     2022-05-26            Sapato Social        89.0           220.0\n",
       "3     2022-11-21                    Tênis        63.0           103.0\n",
       "4     2022-02-16                     Anel         NaN           146.0\n",
       "5     2022-11-29                    Sutiã        91.0           268.0\n",
       "6     2022-03-14            Jaqueta Jeans         NaN           404.0\n",
       "7     2022-05-16                   Brinco        77.0           241.0\n",
       "8     2022-05-07               Short Saia        76.0             NaN\n",
       "9     2022-11-24     Camiseta Manga Longa        79.0             NaN\n",
       "10    2022-02-03           Blusa de Renda         2.0           485.0\n",
       "11    2022-02-28     Camiseta Manga Longa        23.0           373.0\n",
       "12    2022-08-07          Sapato de Salto        73.0             NaN\n",
       "13    2022-11-16                  Bermuda         NaN            95.0\n",
       "14    2022-02-19                  Moletom        16.0             NaN\n",
       "15    2022-12-09            Saia de Couro        11.0           385.0\n",
       "16    2022-06-21            Camisa Xadrez        70.0           324.0\n",
       "17    2022-09-24                Sapatênis        58.0           404.0\n",
       "18    2022-09-19                   Camisa         NaN            53.0\n",
       "19    2022-06-25            Saia de Couro         5.0           234.0\n",
       "20    2022-08-08          Blusa Ciganinha         NaN           180.0\n",
       "21    2022-01-04                   Regata         NaN           393.0\n",
       "22    2022-11-12            Saia de Couro        89.0             NaN\n",
       "23    2022-01-01     Vestido Transpassado         NaN           361.0\n",
       "24    2022-10-28                   Suéter        83.0           165.0\n",
       "25    2022-07-01                  Macacão         6.0             NaN\n",
       "26    2022-08-23                    Cinto         NaN           495.0\n",
       "27    2022-06-29                    Bolsa         6.0           386.0\n",
       "28    2022-10-04                     Anel         NaN            80.0\n",
       "29    2022-05-07                 Pulseira        24.0            90.0\n",
       "...          ...                      ...         ...             ...\n",
       "9970  2022-07-26               Saia Jeans        50.0            53.0\n",
       "9971  2022-06-18                   Brinco        82.0           249.0\n",
       "9972  2022-08-08             Camisa Jeans        83.0           496.0\n",
       "9973  2022-04-27                   Brinco        52.0           413.0\n",
       "9974  2022-07-12  Vestido Tomara que Caia        57.0           159.0\n",
       "9975  2022-06-06            Blusa de Tule         NaN           464.0\n",
       "9976  2022-10-25             Camisa Jeans        22.0           421.0\n",
       "9977  2022-01-01                 Cardigan         5.0           489.0\n",
       "9978  2022-04-04             Camisa Jeans         NaN           493.0\n",
       "9979  2022-02-06          Camiseta Básica        85.0           294.0\n",
       "9980  2022-10-23                   Camisa        68.0           150.0\n",
       "9981  2022-07-30            Macacão Curto        17.0           185.0\n",
       "9982  2022-07-28                    Tênis         NaN             NaN\n",
       "9983  2022-09-05                   Blazer         NaN           343.0\n",
       "9984  2022-12-15                    Bolsa        61.0           118.0\n",
       "9985  2022-02-14                    Lenço        26.0           287.0\n",
       "9986  2022-06-30            Blusa Cropped        94.0           453.0\n",
       "9987  2022-04-29                   Regata        97.0           376.0\n",
       "9988  2022-10-14             Calça Social        41.0           411.0\n",
       "9989  2022-02-08                   Brinco        41.0            82.0\n",
       "9990  2022-08-27        Vestido Ciganinha        10.0           329.0\n",
       "9991  2022-04-08            Camisa Social         NaN             NaN\n",
       "9992  2022-06-06                  Relógio        12.0           149.0\n",
       "9993  2022-01-14                  Jaqueta        29.0           280.0\n",
       "9994  2022-11-15            Camisa Social         NaN           172.0\n",
       "9995  2022-09-26                  Bermuda         1.0           316.0\n",
       "9996  2022-08-15                    Cinto        94.0             NaN\n",
       "9997  2023-01-01        Sandália de Salto        93.0           240.0\n",
       "9998  2022-07-06                     Boné         8.0           104.0\n",
       "9999  2022-09-20        Sandália de Salto         NaN           380.0\n",
       "\n",
       "[10000 rows x 4 columns]"
      ]
     },
     "execution_count": 5,
     "metadata": {},
     "output_type": "execute_result"
    }
   ],
   "source": [
    "#abrir o meu df\n",
    "teste\n"
   ]
  },
  {
   "cell_type": "code",
   "execution_count": 9,
   "metadata": {},
   "outputs": [
    {
     "data": {
      "text/html": [
       "<div>\n",
       "<style scoped>\n",
       "    .dataframe tbody tr th:only-of-type {\n",
       "        vertical-align: middle;\n",
       "    }\n",
       "\n",
       "    .dataframe tbody tr th {\n",
       "        vertical-align: top;\n",
       "    }\n",
       "\n",
       "    .dataframe thead th {\n",
       "        text-align: right;\n",
       "    }\n",
       "</style>\n",
       "<table border=\"1\" class=\"dataframe\">\n",
       "  <thead>\n",
       "    <tr style=\"text-align: right;\">\n",
       "      <th></th>\n",
       "      <th>Data</th>\n",
       "      <th>Produto</th>\n",
       "      <th>Quantidade</th>\n",
       "      <th>Valor_Unitario</th>\n",
       "    </tr>\n",
       "  </thead>\n",
       "  <tbody>\n",
       "    <tr>\n",
       "      <th>0</th>\n",
       "      <td>2022-10-22</td>\n",
       "      <td>Top</td>\n",
       "      <td>NaN</td>\n",
       "      <td>NaN</td>\n",
       "    </tr>\n",
       "    <tr>\n",
       "      <th>1</th>\n",
       "      <td>2022-10-26</td>\n",
       "      <td>Jaqueta</td>\n",
       "      <td>77.0</td>\n",
       "      <td>50.0</td>\n",
       "    </tr>\n",
       "    <tr>\n",
       "      <th>2</th>\n",
       "      <td>2022-05-13</td>\n",
       "      <td>Camisa Manga 3/4</td>\n",
       "      <td>92.0</td>\n",
       "      <td>NaN</td>\n",
       "    </tr>\n",
       "    <tr>\n",
       "      <th>3</th>\n",
       "      <td>2022-09-10</td>\n",
       "      <td>Gravata</td>\n",
       "      <td>15.0</td>\n",
       "      <td>191.0</td>\n",
       "    </tr>\n",
       "    <tr>\n",
       "      <th>4</th>\n",
       "      <td>2022-03-19</td>\n",
       "      <td>Top</td>\n",
       "      <td>NaN</td>\n",
       "      <td>194.0</td>\n",
       "    </tr>\n",
       "  </tbody>\n",
       "</table>\n",
       "</div>"
      ],
      "text/plain": [
       "         Data           Produto  Quantidade  Valor_Unitario\n",
       "0  2022-10-22               Top         NaN             NaN\n",
       "1  2022-10-26           Jaqueta        77.0            50.0\n",
       "2  2022-05-13  Camisa Manga 3/4        92.0             NaN\n",
       "3  2022-09-10           Gravata        15.0           191.0\n",
       "4  2022-03-19               Top         NaN           194.0"
      ]
     },
     "execution_count": 9,
     "metadata": {},
     "output_type": "execute_result"
    }
   ],
   "source": [
    "#para melhorar a visualizaçao e mostrar a 5 primeira\n",
    "teste.head()"
   ]
  },
  {
   "cell_type": "code",
   "execution_count": 10,
   "metadata": {},
   "outputs": [
    {
     "data": {
      "text/plain": [
       "Data               object\n",
       "Produto            object\n",
       "Quantidade        float64\n",
       "Valor_Unitario    float64\n",
       "dtype: object"
      ]
     },
     "execution_count": 10,
     "metadata": {},
     "output_type": "execute_result"
    }
   ],
   "source": [
    "teste.dtypes"
   ]
  },
  {
   "cell_type": "code",
   "execution_count": 6,
   "metadata": {},
   "outputs": [
    {
     "name": "stdout",
     "output_type": "stream",
     "text": [
      "<class 'pandas.core.frame.DataFrame'>\n",
      "RangeIndex: 10000 entries, 0 to 9999\n",
      "Data columns (total 4 columns):\n",
      "Data              10000 non-null object\n",
      "Produto           10000 non-null object\n",
      "Quantidade        7015 non-null float64\n",
      "Valor_Unitario    8023 non-null float64\n",
      "dtypes: float64(2), object(2)\n",
      "memory usage: 312.6+ KB\n"
     ]
    }
   ],
   "source": [
    "#O método info() fornece informações técnicas sobre a DataFrame\n",
    "teste.info()"
   ]
  },
  {
   "cell_type": "markdown",
   "metadata": {},
   "source": [
    " teste info esta informando  que   relamente é um DataFrame\n",
    " existe 10000 entradas ou seja isso é numero de linhas\n",
    " sao 4 colunas\n",
    " data,produto sao \"object\" ou seja sao dados textuais\n",
    " ja quantidade,valor_unitario sao \"float\"sao numeros interios\n",
    " dtypes mostra o tipo de dados\n",
    " memory usage é a quantidade de memoria usado nela"
   ]
  },
  {
   "cell_type": "code",
   "execution_count": 7,
   "metadata": {},
   "outputs": [
    {
     "data": {
      "text/html": [
       "<div>\n",
       "<style scoped>\n",
       "    .dataframe tbody tr th:only-of-type {\n",
       "        vertical-align: middle;\n",
       "    }\n",
       "\n",
       "    .dataframe tbody tr th {\n",
       "        vertical-align: top;\n",
       "    }\n",
       "\n",
       "    .dataframe thead th {\n",
       "        text-align: right;\n",
       "    }\n",
       "</style>\n",
       "<table border=\"1\" class=\"dataframe\">\n",
       "  <thead>\n",
       "    <tr style=\"text-align: right;\">\n",
       "      <th></th>\n",
       "      <th>Data</th>\n",
       "      <th>Produto</th>\n",
       "      <th>Quantidade</th>\n",
       "      <th>Valor_Unitario</th>\n",
       "    </tr>\n",
       "  </thead>\n",
       "  <tbody>\n",
       "    <tr>\n",
       "      <th>0</th>\n",
       "      <td>2022-08-22</td>\n",
       "      <td>Mochila</td>\n",
       "      <td>81.0</td>\n",
       "      <td>435.0</td>\n",
       "    </tr>\n",
       "    <tr>\n",
       "      <th>1</th>\n",
       "      <td>2022-06-27</td>\n",
       "      <td>Macacão</td>\n",
       "      <td>NaN</td>\n",
       "      <td>NaN</td>\n",
       "    </tr>\n",
       "    <tr>\n",
       "      <th>2</th>\n",
       "      <td>2022-05-26</td>\n",
       "      <td>Sapato Social</td>\n",
       "      <td>89.0</td>\n",
       "      <td>220.0</td>\n",
       "    </tr>\n",
       "    <tr>\n",
       "      <th>3</th>\n",
       "      <td>2022-11-21</td>\n",
       "      <td>Tênis</td>\n",
       "      <td>63.0</td>\n",
       "      <td>103.0</td>\n",
       "    </tr>\n",
       "    <tr>\n",
       "      <th>4</th>\n",
       "      <td>2022-02-16</td>\n",
       "      <td>Anel</td>\n",
       "      <td>NaN</td>\n",
       "      <td>146.0</td>\n",
       "    </tr>\n",
       "  </tbody>\n",
       "</table>\n",
       "</div>"
      ],
      "text/plain": [
       "         Data        Produto  Quantidade  Valor_Unitario\n",
       "0  2022-08-22        Mochila        81.0           435.0\n",
       "1  2022-06-27        Macacão         NaN             NaN\n",
       "2  2022-05-26  Sapato Social        89.0           220.0\n",
       "3  2022-11-21          Tênis        63.0           103.0\n",
       "4  2022-02-16           Anel         NaN           146.0"
      ]
     },
     "execution_count": 7,
     "metadata": {},
     "output_type": "execute_result"
    }
   ],
   "source": [
    "teste.head()"
   ]
  },
  {
   "cell_type": "code",
   "execution_count": 9,
   "metadata": {},
   "outputs": [
    {
     "data": {
      "text/plain": [
       "0    81.0\n",
       "1     NaN\n",
       "2    89.0\n",
       "3    63.0\n",
       "4     NaN\n",
       "Name: Quantidade, dtype: float64"
      ]
     },
     "execution_count": 9,
     "metadata": {},
     "output_type": "execute_result"
    }
   ],
   "source": [
    "#selecionando uma coluna expesifica\n",
    "quantidade = teste[\"Quantidade\"]\n",
    "quantidade.head()"
   ]
  },
  {
   "cell_type": "code",
   "execution_count": 10,
   "metadata": {},
   "outputs": [
    {
     "data": {
      "text/plain": [
       "(10000,)"
      ]
     },
     "execution_count": 10,
     "metadata": {},
     "output_type": "execute_result"
    }
   ],
   "source": [
    "#saber a quantidade de linha que tem essa determina coluna \n",
    "teste[\"Quantidade\"].shape"
   ]
  },
  {
   "cell_type": "code",
   "execution_count": 12,
   "metadata": {
    "scrolled": true
   },
   "outputs": [
    {
     "data": {
      "text/html": [
       "<div>\n",
       "<style scoped>\n",
       "    .dataframe tbody tr th:only-of-type {\n",
       "        vertical-align: middle;\n",
       "    }\n",
       "\n",
       "    .dataframe tbody tr th {\n",
       "        vertical-align: top;\n",
       "    }\n",
       "\n",
       "    .dataframe thead th {\n",
       "        text-align: right;\n",
       "    }\n",
       "</style>\n",
       "<table border=\"1\" class=\"dataframe\">\n",
       "  <thead>\n",
       "    <tr style=\"text-align: right;\">\n",
       "      <th></th>\n",
       "      <th>Quantidade</th>\n",
       "      <th>Produto</th>\n",
       "    </tr>\n",
       "  </thead>\n",
       "  <tbody>\n",
       "    <tr>\n",
       "      <th>0</th>\n",
       "      <td>81.0</td>\n",
       "      <td>Mochila</td>\n",
       "    </tr>\n",
       "    <tr>\n",
       "      <th>1</th>\n",
       "      <td>NaN</td>\n",
       "      <td>Macacão</td>\n",
       "    </tr>\n",
       "    <tr>\n",
       "      <th>2</th>\n",
       "      <td>89.0</td>\n",
       "      <td>Sapato Social</td>\n",
       "    </tr>\n",
       "    <tr>\n",
       "      <th>3</th>\n",
       "      <td>63.0</td>\n",
       "      <td>Tênis</td>\n",
       "    </tr>\n",
       "    <tr>\n",
       "      <th>4</th>\n",
       "      <td>NaN</td>\n",
       "      <td>Anel</td>\n",
       "    </tr>\n",
       "  </tbody>\n",
       "</table>\n",
       "</div>"
      ],
      "text/plain": [
       "   Quantidade        Produto\n",
       "0        81.0        Mochila\n",
       "1         NaN        Macacão\n",
       "2        89.0  Sapato Social\n",
       "3        63.0          Tênis\n",
       "4         NaN           Anel"
      ]
     },
     "execution_count": 12,
     "metadata": {},
     "output_type": "execute_result"
    }
   ],
   "source": [
    "#selecionando mais de uma coluna.\n",
    "\n",
    "quantidade_produto = teste[[\"Quantidade\",\"Produto\"]]\n",
    "quantidade_produto.head()"
   ]
  },
  {
   "cell_type": "markdown",
   "metadata": {},
   "source": [
    "OBS:Os colchetes internos definem a Lista de python com nomes de colunas,\n",
    "considerando os suportes externos são usados para selecionar os dados de \n",
    "um pandas DataFrame como visto no exemplo anterior"
   ]
  },
  {
   "cell_type": "code",
   "execution_count": 13,
   "metadata": {
    "scrolled": true
   },
   "outputs": [
    {
     "data": {
      "text/html": [
       "<div>\n",
       "<style scoped>\n",
       "    .dataframe tbody tr th:only-of-type {\n",
       "        vertical-align: middle;\n",
       "    }\n",
       "\n",
       "    .dataframe tbody tr th {\n",
       "        vertical-align: top;\n",
       "    }\n",
       "\n",
       "    .dataframe thead th {\n",
       "        text-align: right;\n",
       "    }\n",
       "</style>\n",
       "<table border=\"1\" class=\"dataframe\">\n",
       "  <thead>\n",
       "    <tr style=\"text-align: right;\">\n",
       "      <th></th>\n",
       "      <th>Data</th>\n",
       "      <th>Produto</th>\n",
       "      <th>Quantidade</th>\n",
       "      <th>Valor_Unitario</th>\n",
       "    </tr>\n",
       "  </thead>\n",
       "  <tbody>\n",
       "    <tr>\n",
       "      <th>0</th>\n",
       "      <td>2022-08-22</td>\n",
       "      <td>Mochila</td>\n",
       "      <td>81.0</td>\n",
       "      <td>435.0</td>\n",
       "    </tr>\n",
       "    <tr>\n",
       "      <th>2</th>\n",
       "      <td>2022-05-26</td>\n",
       "      <td>Sapato Social</td>\n",
       "      <td>89.0</td>\n",
       "      <td>220.0</td>\n",
       "    </tr>\n",
       "    <tr>\n",
       "      <th>3</th>\n",
       "      <td>2022-11-21</td>\n",
       "      <td>Tênis</td>\n",
       "      <td>63.0</td>\n",
       "      <td>103.0</td>\n",
       "    </tr>\n",
       "    <tr>\n",
       "      <th>5</th>\n",
       "      <td>2022-11-29</td>\n",
       "      <td>Sutiã</td>\n",
       "      <td>91.0</td>\n",
       "      <td>268.0</td>\n",
       "    </tr>\n",
       "    <tr>\n",
       "      <th>7</th>\n",
       "      <td>2022-05-16</td>\n",
       "      <td>Brinco</td>\n",
       "      <td>77.0</td>\n",
       "      <td>241.0</td>\n",
       "    </tr>\n",
       "  </tbody>\n",
       "</table>\n",
       "</div>"
      ],
      "text/plain": [
       "         Data        Produto  Quantidade  Valor_Unitario\n",
       "0  2022-08-22        Mochila        81.0           435.0\n",
       "2  2022-05-26  Sapato Social        89.0           220.0\n",
       "3  2022-11-21          Tênis        63.0           103.0\n",
       "5  2022-11-29          Sutiã        91.0           268.0\n",
       "7  2022-05-16         Brinco        77.0           241.0"
      ]
     },
     "execution_count": 13,
     "metadata": {},
     "output_type": "execute_result"
    }
   ],
   "source": [
    "#Filtrando linha espesifica\n",
    "quant_50 = teste[teste[\"Quantidade\"]>35]\n",
    "quant_50.head()"
   ]
  },
  {
   "cell_type": "markdown",
   "metadata": {},
   "source": [
    "Selecionando uma linhas com base em uma expressão condicional, use uma condição interna os suportes de seleção []."
   ]
  },
  {
   "cell_type": "code",
   "execution_count": 15,
   "metadata": {},
   "outputs": [
    {
     "data": {
      "text/plain": [
       "0     True\n",
       "1    False\n",
       "2     True\n",
       "3     True\n",
       "4    False\n",
       "Name: Quantidade, dtype: bool"
      ]
     },
     "execution_count": 15,
     "metadata": {},
     "output_type": "execute_result"
    }
   ],
   "source": [
    "teste_50 = teste[\"Quantidade\"]>50\n",
    "teste_50.head()"
   ]
  },
  {
   "cell_type": "markdown",
   "metadata": {},
   "source": [
    "testando linha por linha se a condiçao verdadeira ou falsa"
   ]
  },
  {
   "cell_type": "markdown",
   "metadata": {},
   "source": [
    "A saída da expressão condicional (>, mas também ==, !=, <, <=,… funcionaria) é na verdade um pandas Series de valores booleanos (ou True ou False) com o mesmo número de linhas como o original DataFrame. Tal Series valores booleanos pode ser usado para filtrar o DataFrame colocando-o entre o suportes de seleção []. Apenas linhas para as quais o valor é True serão selecionados."
   ]
  },
  {
   "cell_type": "code",
   "execution_count": 18,
   "metadata": {},
   "outputs": [
    {
     "data": {
      "text/plain": [
       "(4547, 4)"
      ]
     },
     "execution_count": 18,
     "metadata": {},
     "output_type": "execute_result"
    }
   ],
   "source": [
    "#mostarando quantas linhas  se enquandra na minha pesquisa/ 4547 linha sao maiores que 50 em \"quantidade\" \n",
    "quant_50.shape"
   ]
  },
  {
   "cell_type": "code",
   "execution_count": 22,
   "metadata": {
    "scrolled": false
   },
   "outputs": [
    {
     "data": {
      "text/html": [
       "<div>\n",
       "<style scoped>\n",
       "    .dataframe tbody tr th:only-of-type {\n",
       "        vertical-align: middle;\n",
       "    }\n",
       "\n",
       "    .dataframe tbody tr th {\n",
       "        vertical-align: top;\n",
       "    }\n",
       "\n",
       "    .dataframe thead th {\n",
       "        text-align: right;\n",
       "    }\n",
       "</style>\n",
       "<table border=\"1\" class=\"dataframe\">\n",
       "  <thead>\n",
       "    <tr style=\"text-align: right;\">\n",
       "      <th></th>\n",
       "      <th>Data</th>\n",
       "      <th>Produto</th>\n",
       "      <th>Quantidade</th>\n",
       "      <th>Valor_Unitario</th>\n",
       "      <th>valor_imposto</th>\n",
       "      <th>Valor_com_imposto</th>\n",
       "    </tr>\n",
       "  </thead>\n",
       "  <tbody>\n",
       "    <tr>\n",
       "      <th>0</th>\n",
       "      <td>2022-08-22</td>\n",
       "      <td>Mochila</td>\n",
       "      <td>81.0</td>\n",
       "      <td>435.0</td>\n",
       "      <td>43.5</td>\n",
       "      <td>478.5</td>\n",
       "    </tr>\n",
       "    <tr>\n",
       "      <th>1</th>\n",
       "      <td>2022-06-27</td>\n",
       "      <td>Macacão</td>\n",
       "      <td>NaN</td>\n",
       "      <td>NaN</td>\n",
       "      <td>NaN</td>\n",
       "      <td>NaN</td>\n",
       "    </tr>\n",
       "    <tr>\n",
       "      <th>2</th>\n",
       "      <td>2022-05-26</td>\n",
       "      <td>Sapato Social</td>\n",
       "      <td>89.0</td>\n",
       "      <td>220.0</td>\n",
       "      <td>22.0</td>\n",
       "      <td>242.0</td>\n",
       "    </tr>\n",
       "    <tr>\n",
       "      <th>3</th>\n",
       "      <td>2022-11-21</td>\n",
       "      <td>Tênis</td>\n",
       "      <td>63.0</td>\n",
       "      <td>103.0</td>\n",
       "      <td>10.3</td>\n",
       "      <td>113.3</td>\n",
       "    </tr>\n",
       "    <tr>\n",
       "      <th>4</th>\n",
       "      <td>2022-02-16</td>\n",
       "      <td>Anel</td>\n",
       "      <td>NaN</td>\n",
       "      <td>146.0</td>\n",
       "      <td>14.6</td>\n",
       "      <td>160.6</td>\n",
       "    </tr>\n",
       "  </tbody>\n",
       "</table>\n",
       "</div>"
      ],
      "text/plain": [
       "         Data        Produto  Quantidade  Valor_Unitario  valor_imposto  \\\n",
       "0  2022-08-22        Mochila        81.0           435.0           43.5   \n",
       "1  2022-06-27        Macacão         NaN             NaN            NaN   \n",
       "2  2022-05-26  Sapato Social        89.0           220.0           22.0   \n",
       "3  2022-11-21          Tênis        63.0           103.0           10.3   \n",
       "4  2022-02-16           Anel         NaN           146.0           14.6   \n",
       "\n",
       "   Valor_com_imposto  \n",
       "0              478.5  \n",
       "1                NaN  \n",
       "2              242.0  \n",
       "3              113.3  \n",
       "4              160.6  "
      ]
     },
     "execution_count": 22,
     "metadata": {},
     "output_type": "execute_result"
    }
   ],
   "source": [
    "#adicionando uma nova coluna \n",
    "teste[\"Valor_com_imposto\"] = teste[\"Valor_Unitario\"]*0.10+teste[\"Valor_Unitario\"]\n",
    "teste.head()"
   ]
  },
  {
   "cell_type": "markdown",
   "metadata": {},
   "source": [
    "Os operadores matemáticos (+, -, *, /,…) ou operadores lógicos (<, >, ==,…) trabalho em termos de elementos.\n",
    "O último já era usado no tutorial de dados de subconjunto filtrar linhas de uma tabela usando uma expressão condicional."
   ]
  },
  {
   "cell_type": "markdown",
   "metadata": {},
   "source": [
    "OBS:O cálculo dos valores é feito em termos de elementos. Isto significa que todos os valores na coluna dada são multiplicado por 10% e adcionando valor dela de uma vez. Você não precisa usar um loop para iterar cada uma das linhas!"
   ]
  },
  {
   "cell_type": "code",
   "execution_count": 7,
   "metadata": {},
   "outputs": [
    {
     "data": {
      "text/plain": [
       "50.48011404133999"
      ]
     },
     "execution_count": 7,
     "metadata": {},
     "output_type": "execute_result"
    }
   ],
   "source": [
    "#media\n",
    "teste[\"Quantidade\"].mean()"
   ]
  },
  {
   "cell_type": "code",
   "execution_count": 8,
   "metadata": {
    "scrolled": false
   },
   "outputs": [
    {
     "data": {
      "text/html": [
       "<div>\n",
       "<style scoped>\n",
       "    .dataframe tbody tr th:only-of-type {\n",
       "        vertical-align: middle;\n",
       "    }\n",
       "\n",
       "    .dataframe tbody tr th {\n",
       "        vertical-align: top;\n",
       "    }\n",
       "\n",
       "    .dataframe thead th {\n",
       "        text-align: right;\n",
       "    }\n",
       "</style>\n",
       "<table border=\"1\" class=\"dataframe\">\n",
       "  <thead>\n",
       "    <tr style=\"text-align: right;\">\n",
       "      <th></th>\n",
       "      <th>Quantidade</th>\n",
       "      <th>Valor_Unitario</th>\n",
       "    </tr>\n",
       "  </thead>\n",
       "  <tbody>\n",
       "    <tr>\n",
       "      <th>count</th>\n",
       "      <td>7015.000000</td>\n",
       "      <td>8023.000000</td>\n",
       "    </tr>\n",
       "    <tr>\n",
       "      <th>mean</th>\n",
       "      <td>50.480114</td>\n",
       "      <td>276.146080</td>\n",
       "    </tr>\n",
       "    <tr>\n",
       "      <th>std</th>\n",
       "      <td>28.771518</td>\n",
       "      <td>130.384648</td>\n",
       "    </tr>\n",
       "    <tr>\n",
       "      <th>min</th>\n",
       "      <td>1.000000</td>\n",
       "      <td>50.000000</td>\n",
       "    </tr>\n",
       "    <tr>\n",
       "      <th>25%</th>\n",
       "      <td>26.000000</td>\n",
       "      <td>163.000000</td>\n",
       "    </tr>\n",
       "    <tr>\n",
       "      <th>50%</th>\n",
       "      <td>50.000000</td>\n",
       "      <td>277.000000</td>\n",
       "    </tr>\n",
       "    <tr>\n",
       "      <th>75%</th>\n",
       "      <td>76.000000</td>\n",
       "      <td>389.000000</td>\n",
       "    </tr>\n",
       "    <tr>\n",
       "      <th>max</th>\n",
       "      <td>100.000000</td>\n",
       "      <td>500.000000</td>\n",
       "    </tr>\n",
       "  </tbody>\n",
       "</table>\n",
       "</div>"
      ],
      "text/plain": [
       "        Quantidade  Valor_Unitario\n",
       "count  7015.000000     8023.000000\n",
       "mean     50.480114      276.146080\n",
       "std      28.771518      130.384648\n",
       "min       1.000000       50.000000\n",
       "25%      26.000000      163.000000\n",
       "50%      50.000000      277.000000\n",
       "75%      76.000000      389.000000\n",
       "max     100.000000      500.000000"
      ]
     },
     "execution_count": 8,
     "metadata": {},
     "output_type": "execute_result"
    }
   ],
   "source": [
    "teste[[\"Quantidade\",\"Valor_Unitario\"]].describe()"
   ]
  },
  {
   "cell_type": "markdown",
   "metadata": {},
   "source": [
    "agora vou começar a estudar sobre  matplotlib\n",
    "https://matplotlib.org/stable/users/explain/quick_start.html#quick-start"
   ]
  },
  {
   "cell_type": "code",
   "execution_count": 14,
   "metadata": {},
   "outputs": [
    {
     "data": {
      "image/png": "[encoded data removed]",
      "text/plain": [
       "<Figure size 432x288 with 1 Axes>"
      ]
     },
     "metadata": {
      "needs_background": "light"
     },
     "output_type": "display_data"
    }
   ],
   "source": [
    "#meu primeiro grafico\n",
    "import matplotlib.pyplot as plt\n",
    "import numpy as np\n",
    "\n",
    "x = np.linspace(0,7 * np.pi, 200)\n",
    "y = np.sin(x)\n",
    "\n",
    "fig, ax = plt.subplots()\n",
    "ax.plot(x,y)\n",
    "plt.show()"
   ]
  },
  {
   "cell_type": "markdown",
   "metadata": {},
   "source": [
    "A maneira mais simples de criar uma figura com um eixo está usando pyplot.subplots.\n",
    "Podemos então usar Axes.plot para desenhar alguns dados sobre os eixos"
   ]
  },
  {
   "cell_type": "code",
   "execution_count": 19,
   "metadata": {},
   "outputs": [
    {
     "data": {
      "text/plain": [
       "[<matplotlib.lines.Line2D at 0x7f0f782372e8>]"
      ]
     },
     "execution_count": 19,
     "metadata": {},
     "output_type": "execute_result"
    },
    {
     "data": {
      "image/png": "[encoded data removed]",
      "text/plain": [
       "<Figure size 432x288 with 1 Axes>"
      ]
     },
     "metadata": {
      "needs_background": "light"
     },
     "output_type": "display_data"
    }
   ],
   "source": [
    "fig, ax = plt.subplots() # Crie uma figura contendo um único eixo.\n",
    "ax.plot([1,2,3,4,5],[1,4,2,3,6]) #informaçoes do grafico"
   ]
  },
  {
   "cell_type": "markdown",
   "metadata": {},
   "source": [
    "pedir para chagpt explicar  detalhadamente o codigo \n",
    "\n",
    "\n",
    "1.plt.subplots(): Esta função é usada para criar uma figura e um conjunto de eixos. Uma figura pode conter qualquer número de eixos, e os eixos são onde os gráficos (plots) são desenhados. Quando você chama `plt.subplots()`, está basicamente criando uma figura vazia e um conjunto de eixos associados a essa figura. Por padrão, cria uma única linha de eixos.\n",
    "\n",
    "2.fig, ax = plt.subplots(): Aqui, estamos usando a função `plt.subplots()` para criar uma figura e um conjunto de eixos. Essa função retorna dois objetos: `fig` (a figura) e `ax` (o conjunto de eixos). Usamos a convenção de descompactação do Python para atribuir esses dois objetos a `fig` e `ax` respectivamente. Agora, podemos usar esses objetos para personalizar nossa figura e eixos e adicionar gráficos.\n",
    "\n",
    "3.ax.plot([1,2,3,4,5],[1,4,2,3,6]): Com o conjunto de eixos `ax`, estamos chamando o método `plot()` para desenhar um gráfico de linha. Os dois primeiros argumentos de `plot()` são as coordenadas x e y dos pontos que queremos plotar. No exemplo dado, estamos plotando os pontos `(1, 1), (2, 4), (3, 2), (4, 3), (5, 6)`. Ou seja, no eixo x, os pontos são 1, 2, 3, 4, 5, e no eixo y, os pontos correspondentes são 1, 4, 2, 3, 6. O método `plot()` conecta esses pontos com linhas para formar o gráfico."
   ]
  },
  {
   "cell_type": "code",
   "execution_count": 20,
   "metadata": {},
   "outputs": [
    {
     "data": {
      "text/plain": [
       "(<Figure size 432x288 with 1 Axes>,\n",
       " <matplotlib.axes._subplots.AxesSubplot at 0x7f0f7821cc50>)"
      ]
     },
     "execution_count": 20,
     "metadata": {},
     "output_type": "execute_result"
    },
    {
     "data": {
      "image/png": "[encoded data removed]",
      "text/plain": [
       "<Figure size 432x288 with 1 Axes>"
      ]
     },
     "metadata": {
      "needs_background": "light"
     },
     "output_type": "display_data"
    }
   ],
   "source": [
    "\n",
    "plt.subplots()"
   ]
  },
  {
   "cell_type": "code",
   "execution_count": null,
   "metadata": {},
   "outputs": [],
   "source": []
  },
  {
   "cell_type": "code",
   "execution_count": null,
   "metadata": {},
   "outputs": [],
   "source": []
  }
 ],
 "metadata": {
  "kernelspec": {
   "display_name": "Python 3",
   "language": "python",
   "name": "python3"
  },
  "language_info": {
   "codemirror_mode": {
    "name": "ipython",
    "version": 3
   },
   "file_extension": ".py",
   "mimetype": "text/x-python",
   "name": "python",
   "nbconvert_exporter": "python",
   "pygments_lexer": "ipython3",
   "version": "3.7.3"
  }
 },
 "nbformat": 4,
 "nbformat_minor": 2
}

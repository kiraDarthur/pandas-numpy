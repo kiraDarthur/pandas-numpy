{
 "cells": [
  {
   "cell_type": "markdown",
   "metadata": {},
   "source": [
    "eu precisa de uma planilha para começar a estudar PANDAS , nao conseguia achar nada legal na internet e criar uma do zera tb sera bem complicado então eu  decidir gerar uma com python "
   ]
  },
  {
   "cell_type": "code",
   "execution_count": 1,
   "metadata": {},
   "outputs": [],
   "source": [
    "import pandas as pd\n",
    "import numpy as np\n",
    "import random\n",
    "from datetime import datetime, timedelta\n",
    "\n",
    "# Lista de nomes de produtos\n",
    "nomes_produtos = [\n",
    "    'Camiseta', 'Calça', 'Tênis', 'Jaqueta', 'Bermuda', 'Meia', 'Cinto', 'Boné', 'Moletom', 'Chinelo',\n",
    "    'Camisa', 'Saia', 'Sapato', 'Blusa', 'Colete', 'Luvas', 'Gravata', 'Vestido', 'Casaco', 'Sandalia',\n",
    "    'Regata', 'Shorts', 'Botas', 'Mochila', 'Óculos', 'Relógio', 'Colar', 'Brinco', 'Anel', 'Pulseira',\n",
    "    'Jaqueta Jeans', 'Bolsa', 'Blazer', 'Cardigan', 'Calça Jeans', 'Vestido de Festa', 'Suéter', 'Lenço',\n",
    "    'Terno', 'Sapatilha', 'Macacão', 'Camisa Polo', 'Camisa Social', 'Calça Social', 'Camisa Xadrez',\n",
    "    'Vestido Longo', 'Body', 'Blusa de Frio', 'Calça Legging', 'Top', 'Sutiã', 'Cueca', 'Cachecol', 'Short Saia',\n",
    "    'Camiseta Manga Longa', 'Blusa Cropped', 'Sapato Social', 'Sandália Rasteira', 'Sandália de Salto',\n",
    "    'Sapato de Salto', 'Sapatênis', 'Jaqueta de Couro', 'Vestido Midi', 'Saia Longa', 'Saia Midi', 'Saia Jeans',\n",
    "    'Macacão Longo', 'Macacão Curto', 'Saia Plissada', 'Saia de Couro', 'Blusa Ciganinha', 'Blusa de Alça',\n",
    "    'Camiseta Estampada', 'Camiseta Básica', 'Regata Cavada', 'Camisa Manga Curta', 'Camisa Manga 3/4',\n",
    "    'Camisa Jeans', 'Camisa Listrada', 'Blusa Manga Longa', 'Blusa de Renda', 'Blusa de Tricot', 'Blusa de Crochê',\n",
    "    'Blusa de Tule', 'Vestido Tubinho', 'Vestido Ciganinha', 'Vestido Godê', 'Vestido com Fenda', 'Vestido Rodado',\n",
    "    'Vestido Tomara que Caia', 'Vestido Transpassado', 'Vestido Chemise', 'Vestido Curto', 'Vestido Longuete'\n",
    "]\n",
    "\n",
    "# Gerando dados de exemplo\n",
    "dados_vendas = {\n",
    "    'Data': [],\n",
    "    'Produto': [],\n",
    "    'Quantidade': [],\n",
    "    'Valor_Unitario': []\n",
    "}\n",
    "\n",
    "# Data inicial\n",
    "data_inicial = datetime(2022, 1, 1)\n",
    "\n",
    "# Gerando milhares de itens de vendas\n",
    "for _ in range(10000):\n",
    "    # Data aleatória dentro de um intervalo de um ano\n",
    "    data_venda = data_inicial + timedelta(days=random.randint(0, 365))\n",
    "    dados_vendas['Data'].append(data_venda.strftime('%Y-%m-%d'))\n",
    "    # Produto aleatório\n",
    "    produto = random.choice(nomes_produtos)\n",
    "    dados_vendas['Produto'].append(produto)\n",
    "    # Quantidade aleatória entre 1 e 100\n",
    "    quantidade = random.randint(1, 100)\n",
    "    # Definindo aleatoriamente se o valor da quantidade será vazio\n",
    "    if random.random() < 0.3:  # 30% de chance de ser vazio\n",
    "        quantidade = None\n",
    "    dados_vendas['Quantidade'].append(quantidade)\n",
    "    # Valor unitário aleatório entre 50 e 500\n",
    "    valor_unitario = random.randint(50, 500)\n",
    "    # Definindo aleatoriamente se o valor do valor unitário será vazio\n",
    "    if random.random() < 0.2:  # 20% de chance de ser vazio\n",
    "        valor_unitario = None\n",
    "    dados_vendas['Valor_Unitario'].append(valor_unitario)\n",
    "\n",
    "# Criando DataFrame\n",
    "df = pd.DataFrame(dados_vendas)\n",
    "\n",
    "# Salvando em um arquivo CSV\n",
    "df.to_csv('lista_de_vendas.csv', index=False)\n"
   ]
  }
 ],
 "metadata": {
  "kernelspec": {
   "display_name": "Python 3",
   "language": "python",
   "name": "python3"
  },
  "language_info": {
   "codemirror_mode": {
    "name": "ipython",
    "version": 3
   },
   "file_extension": ".py",
   "mimetype": "text/x-python",
   "name": "python",
   "nbconvert_exporter": "python",
   "pygments_lexer": "ipython3",
   "version": "3.7.3"
  }
 },
 "nbformat": 4,
 "nbformat_minor": 2
}

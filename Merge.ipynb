{
 "cells": [
  {
   "cell_type": "markdown",
   "metadata": {},
   "source": [
    "A função `merge()` é usada em pandas, uma biblioteca de Python para análise de dados, para combinar dois ou mais DataFrames com base em uma ou mais chaves comuns. É semelhante à operação de junção em SQL.\n",
    "\n",
    "Existem diferentes tipos de junções que podem ser especificadas usando o parâmetro `how` na função `merge()`, incluindo:\n",
    "\n",
    "1. Inner Join: Retorna apenas as linhas que têm chaves correspondentes em ambos os DataFrames.\n",
    "2. Left Join: Retorna todas as linhas do DataFrame da esquerda e as linhas correspondentes do DataFrame da direita. Se não houver correspondência, as colunas do DataFrame da direita serão preenchidas com valores NaN.\n",
    "3. Right Join: Retorna todas as linhas do DataFrame da direita e as linhas correspondentes do DataFrame da esquerda. Se não houver correspondência, as colunas do DataFrame da esquerda serão preenchidas com valores NaN.\n",
    "4. Outer Join: Retorna todas as linhas de ambos os DataFrames, preenchendo com NaN nas colunas onde não houver correspondência."
   ]
  },
  {
   "cell_type": "code",
   "execution_count": 5,
   "metadata": {},
   "outputs": [],
   "source": [
    "# criando 2 df\n",
    "import pandas as pd\n",
    "dic1 = {\n",
    "    \"nomes\":[\"Nome1\",\"Nome2\",\"Nome3\"],\n",
    "    \"valores\": [1,2,3]\n",
    "}\n",
    "\n",
    "base_dic1 = pd.DataFrame(dic1)\n",
    "\n",
    "\n",
    "dic2 = {\n",
    "    \"nomes\":[\"Nome1\",\"Nome2\",\"Nome4\"],\n",
    "    \"valores\": [9,8,7]\n",
    " }\n",
    "\n",
    "base_dic2 = pd.DataFrame(dic2)\n"
   ]
  },
  {
   "cell_type": "code",
   "execution_count": 6,
   "metadata": {},
   "outputs": [
    {
     "data": {
      "text/html": [
       "<div>\n",
       "<style scoped>\n",
       "    .dataframe tbody tr th:only-of-type {\n",
       "        vertical-align: middle;\n",
       "    }\n",
       "\n",
       "    .dataframe tbody tr th {\n",
       "        vertical-align: top;\n",
       "    }\n",
       "\n",
       "    .dataframe thead th {\n",
       "        text-align: right;\n",
       "    }\n",
       "</style>\n",
       "<table border=\"1\" class=\"dataframe\">\n",
       "  <thead>\n",
       "    <tr style=\"text-align: right;\">\n",
       "      <th></th>\n",
       "      <th>nomes</th>\n",
       "      <th>valores_x</th>\n",
       "      <th>valores_y</th>\n",
       "    </tr>\n",
       "  </thead>\n",
       "  <tbody>\n",
       "    <tr>\n",
       "      <th>0</th>\n",
       "      <td>Nome1</td>\n",
       "      <td>1.0</td>\n",
       "      <td>9</td>\n",
       "    </tr>\n",
       "    <tr>\n",
       "      <th>1</th>\n",
       "      <td>Nome2</td>\n",
       "      <td>2.0</td>\n",
       "      <td>8</td>\n",
       "    </tr>\n",
       "    <tr>\n",
       "      <th>2</th>\n",
       "      <td>Nome4</td>\n",
       "      <td>NaN</td>\n",
       "      <td>7</td>\n",
       "    </tr>\n",
       "  </tbody>\n",
       "</table>\n",
       "</div>"
      ],
      "text/plain": [
       "   nomes  valores_x  valores_y\n",
       "0  Nome1        1.0          9\n",
       "1  Nome2        2.0          8\n",
       "2  Nome4        NaN          7"
      ]
     },
     "metadata": {},
     "output_type": "display_data"
    }
   ],
   "source": [
    "base_marge = pd.merge(\n",
    "    base_dic1,#primeira base\n",
    "    base_dic2,#segunda base\n",
    "    how=\"right\",#tipo de junçao que vamos usar\n",
    "    on = \"nomes\"# coluna que vamos usar para fazer essa junçao das base \n",
    ")\n",
    ")\n",
    "\n",
    "display(base_marge)"
   ]
  },
  {
   "cell_type": "code",
   "execution_count": null,
   "metadata": {},
   "outputs": [],
   "source": []
  }
 ],
 "metadata": {
  "kernelspec": {
   "display_name": "Python 3",
   "language": "python",
   "name": "python3"
  },
  "language_info": {
   "codemirror_mode": {
    "name": "ipython",
    "version": 3
   },
   "file_extension": ".py",
   "mimetype": "text/x-python",
   "name": "python",
   "nbconvert_exporter": "python",
   "pygments_lexer": "ipython3",
   "version": "3.7.3"
  }
 },
 "nbformat": 4,
 "nbformat_minor": 2
}
